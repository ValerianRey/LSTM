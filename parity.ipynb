{
 "cells": [
  {
   "cell_type": "markdown",
   "id": "e5fd8e4e",
   "metadata": {},
   "source": [
    "The goal of this notebook is to check if we can learn a low dimensional LSTM to solve the parity problem on very long sequences. The problem is defined as follows: for a sequence of bits, is the number of 1s in the sequence even or odd? If it is even, the output should be 0, otherwise it should be 1. Note that with sequences of length 2, this is exactly the XOR problem."
   ]
  },
  {
   "cell_type": "markdown",
   "id": "dda2b1e1",
   "metadata": {},
   "source": [
    "#### Imports"
   ]
  },
  {
   "cell_type": "code",
   "execution_count": 1,
   "id": "c1a93a9b",
   "metadata": {},
   "outputs": [],
   "source": [
    "import numpy as np\n",
    "import os\n",
    "\n",
    "os.environ['TF_CPP_MIN_LOG_LEVEL'] = '3'\n",
    "\n",
    "from keras.models import Sequential\n",
    "from keras.layers import Dense, SimpleRNN, GRU, LSTM\n",
    "from tensorflow.keras import layers\n",
    "from tensorflow.keras import activations"
   ]
  },
  {
   "cell_type": "markdown",
   "id": "4a9d5503",
   "metadata": {},
   "source": [
    "#### Dataset creation"
   ]
  },
  {
   "cell_type": "code",
   "execution_count": 2,
   "id": "720dfd9e",
   "metadata": {},
   "outputs": [
    {
     "name": "stdout",
     "output_type": "stream",
     "text": [
      "5000 5000\n"
     ]
    }
   ],
   "source": [
    "n_samples = 10_000\n",
    "p_test = 0.5\n",
    "train_size = int(n_samples * (1 - p_test))\n",
    "test_size = n_samples - train_size\n",
    "\n",
    "arr = np.random.randint(2, size=(n_samples,))\n",
    "train, test = arr[:train_size], arr[train_size:]\n",
    "print(len(train), len(test))"
   ]
  },
  {
   "cell_type": "markdown",
   "id": "0e54b689",
   "metadata": {},
   "source": [
    "#### Utility functions"
   ]
  },
  {
   "cell_type": "code",
   "execution_count": 3,
   "id": "9cb44201",
   "metadata": {},
   "outputs": [],
   "source": [
    "def get_parity(a: np.array) -> int:\n",
    "    return sum(a) % 2"
   ]
  },
  {
   "cell_type": "code",
   "execution_count": 4,
   "id": "0ac2aa7c",
   "metadata": {},
   "outputs": [],
   "source": [
    "def rolling_window(a: np.array, window: int) -> np.array:\n",
    "    shape = a.shape[:-1] + (a.shape[-1] - window + 1, window)\n",
    "    strides = a.strides + (a.strides[-1],)\n",
    "    return np.lib.stride_tricks.as_strided(a, shape=shape, strides=strides)"
   ]
  },
  {
   "cell_type": "code",
   "execution_count": 5,
   "id": "65f4112b",
   "metadata": {},
   "outputs": [],
   "source": [
    "def create_x_y(a: np.array, timesteps: int):\n",
    "    # We don't have the label for the last sequence so we discard it\n",
    "    x_2d = rolling_window(a, timesteps)[:-1].astype(float) \n",
    "    y = np.array([get_parity(sequence) for sequence in x_2d])\n",
    "    x_3d = np.reshape(x_2d, (x_2d.shape[0], x_2d.shape[1], 1))\n",
    "    return x_3d, y"
   ]
  },
  {
   "cell_type": "code",
   "execution_count": 6,
   "id": "6029a3fd",
   "metadata": {},
   "outputs": [],
   "source": [
    "def init_lstm():\n",
    "    lstm = Sequential()\n",
    "    lstm.add(LSTM(1))\n",
    "    lstm.add(Dense(1, activation='sigmoid'))\n",
    "    lstm.compile(loss='binary_crossentropy', optimizer='adam', metrics=['accuracy'])\n",
    "    return lstm"
   ]
  },
  {
   "cell_type": "code",
   "execution_count": 7,
   "id": "b3a7e1d3",
   "metadata": {},
   "outputs": [],
   "source": [
    "def get_accuracy(model, x, y) -> float:\n",
    "    pred = model.predict(x).round()\n",
    "    pred = pred.reshape(pred.shape[0])\n",
    "    n_errors = sum(pred != y)\n",
    "    accuracy = 1 - (n_errors / len(y))\n",
    "    return accuracy"
   ]
  },
  {
   "cell_type": "markdown",
   "id": "aceecf8d",
   "metadata": {},
   "source": [
    "#### Training directly with sequences of length 1000"
   ]
  },
  {
   "cell_type": "code",
   "execution_count": 8,
   "id": "7601d2ba",
   "metadata": {},
   "outputs": [
    {
     "name": "stdout",
     "output_type": "stream",
     "text": [
      "Train accuracy with sequences of length 1000: 0.499\n",
      "Test accuracy with sequences of length 1000: 0.5025\n"
     ]
    }
   ],
   "source": [
    "timesteps = 1000\n",
    "train_x, train_y = create_x_y(train, timesteps)\n",
    "test_x, test_y = create_x_y(test, timesteps)\n",
    "\n",
    "lstm = init_lstm()\n",
    "lstm.fit(train_x, train_y, epochs=20, batch_size=16, verbose=0)\n",
    "\n",
    "print('Train accuracy with sequences of length {}: {}'.format(timesteps, get_accuracy(lstm, train_x, train_y)))\n",
    "print('Test accuracy with sequences of length {}: {}'.format(timesteps, get_accuracy(lstm, test_x, test_y)))"
   ]
  },
  {
   "cell_type": "markdown",
   "id": "56bd1628",
   "metadata": {},
   "source": [
    "Doesn't seem to work."
   ]
  },
  {
   "cell_type": "markdown",
   "id": "6b1025d4",
   "metadata": {},
   "source": [
    "#### Training with sequences of length increasing from 2 to 1000."
   ]
  },
  {
   "cell_type": "markdown",
   "id": "3b70c94f",
   "metadata": {},
   "source": [
    "Next we use a property of the LSTM: the same model can work with input sequences of different lengths. We will first train the LSTM with small sequences, and then increase the sequence length in training until we are able to work with sequences of length 1000."
   ]
  },
  {
   "cell_type": "code",
   "execution_count": 9,
   "id": "e8471cb0",
   "metadata": {},
   "outputs": [],
   "source": [
    "timesteps_list = [2, 4, 8, 100, 1000]\n",
    "test_xs, test_ys = [], []\n",
    "for timesteps in timesteps_list:\n",
    "    test_x, test_y = create_x_y(test, timesteps)\n",
    "    test_xs.append(test_x)\n",
    "    test_ys.append(test_y)"
   ]
  },
  {
   "cell_type": "code",
   "execution_count": 10,
   "id": "9b68c4a8",
   "metadata": {},
   "outputs": [
    {
     "name": "stdout",
     "output_type": "stream",
     "text": [
      "Training with sequences of length 2...\n",
      "Test accuracy with sequences of length 2: 1.0\n",
      "Test accuracy with sequences of length 4: 0.8098478783026422\n",
      "Test accuracy with sequences of length 8: 0.5392628205128205\n",
      "Test accuracy with sequences of length 100: 0.5026530612244897\n",
      "Test accuracy with sequences of length 1000: 0.49650000000000005\n",
      "\n",
      "Training with sequences of length 4...\n",
      "Test accuracy with sequences of length 2: 1.0\n",
      "Test accuracy with sequences of length 4: 1.0\n",
      "Test accuracy with sequences of length 8: 1.0\n",
      "Test accuracy with sequences of length 100: 1.0\n",
      "Test accuracy with sequences of length 1000: 1.0\n",
      "\n",
      "Training with sequences of length 8...\n",
      "Test accuracy with sequences of length 2: 1.0\n",
      "Test accuracy with sequences of length 4: 1.0\n",
      "Test accuracy with sequences of length 8: 1.0\n",
      "Test accuracy with sequences of length 100: 1.0\n",
      "Test accuracy with sequences of length 1000: 1.0\n",
      "\n",
      "Training with sequences of length 100...\n",
      "Test accuracy with sequences of length 2: 1.0\n",
      "Test accuracy with sequences of length 4: 1.0\n",
      "Test accuracy with sequences of length 8: 1.0\n",
      "Test accuracy with sequences of length 100: 1.0\n",
      "Test accuracy with sequences of length 1000: 1.0\n",
      "\n",
      "Training with sequences of length 1000...\n",
      "Test accuracy with sequences of length 2: 1.0\n",
      "Test accuracy with sequences of length 4: 1.0\n",
      "Test accuracy with sequences of length 8: 1.0\n",
      "Test accuracy with sequences of length 100: 1.0\n",
      "Test accuracy with sequences of length 1000: 1.0\n",
      "\n"
     ]
    }
   ],
   "source": [
    "lstm = init_lstm()\n",
    "for timesteps in timesteps_list:\n",
    "    print('Training with sequences of length {}...'.format(timesteps))\n",
    "    train_x, train_y = create_x_y(train, timesteps)\n",
    "    test_x, test_y = create_x_y(test, timesteps)\n",
    "    lstm.fit(train_x, train_y, epochs=20, batch_size=16, verbose=0)\n",
    "    \n",
    "    for i, timesteps_test in enumerate(timesteps_list):\n",
    "        print('Test accuracy with sequences of length {}: {}'\n",
    "              .format(timesteps_test, get_accuracy(lstm, test_xs[i], test_ys[i])))\n",
    "    print()"
   ]
  },
  {
   "cell_type": "markdown",
   "id": "e12d2d42",
   "metadata": {},
   "source": [
    "As we can see, and as we could expect, once it works with a decent length (4), it works also for much longer lengths (1000). In this specific case, it's actually not needed to even train it with sequences of length longer than 4."
   ]
  }
 ],
 "metadata": {
  "kernelspec": {
   "display_name": "Python 3 (ipykernel)",
   "language": "python",
   "name": "python3"
  },
  "language_info": {
   "codemirror_mode": {
    "name": "ipython",
    "version": 3
   },
   "file_extension": ".py",
   "mimetype": "text/x-python",
   "name": "python",
   "nbconvert_exporter": "python",
   "pygments_lexer": "ipython3",
   "version": "3.9.6"
  }
 },
 "nbformat": 4,
 "nbformat_minor": 5
}
